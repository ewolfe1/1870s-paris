{
 "cells": [
  {
   "cell_type": "code",
   "execution_count": 1,
   "metadata": {
    "ExecuteTime": {
     "end_time": "2020-07-13T16:17:35.559434Z",
     "start_time": "2020-07-13T16:17:34.818082Z"
    }
   },
   "outputs": [],
   "source": [
    "import os\n",
    "import glob\n",
    "import re\n",
    "import pandas as pd\n",
    "import pypandoc\n",
    "from tqdm.notebook import tqdm\n",
    "from datetime import datetime"
   ]
  },
  {
   "cell_type": "code",
   "execution_count": null,
   "metadata": {
    "ExecuteTime": {
     "end_time": "2020-07-13T15:44:40.344965Z",
     "start_time": "2020-07-13T15:44:40.341722Z"
    }
   },
   "outputs": [],
   "source": [
    "# directory where files are stored\n",
    "data = 'data'"
   ]
  },
  {
   "cell_type": "code",
   "execution_count": null,
   "metadata": {
    "ExecuteTime": {
     "end_time": "2020-07-13T15:44:40.349869Z",
     "start_time": "2020-07-13T15:44:40.346977Z"
    }
   },
   "outputs": [],
   "source": [
    "# dictionary to expand street abbreviations\n",
    "street_abbrev = {'boul.':'boulevard',\n",
    "            'St-':'Saint-',\n",
    "            'Nve-':'Neuve- ',\n",
    "            ' pass.':'passage',\n",
    "            ' av.':'avenue',\n",
    "            'Faub.':'Faubourg'\n",
    "          }"
   ]
  },
  {
   "cell_type": "code",
   "execution_count": null,
   "metadata": {
    "ExecuteTime": {
     "end_time": "2020-07-13T15:54:01.939167Z",
     "start_time": "2020-07-13T15:54:01.932946Z"
    }
   },
   "outputs": [],
   "source": [
    "def prep_text(file):\n",
    "    \n",
    "    if '.doc' in file:\n",
    "        fulltext = pypandoc.convert_file(file,'plain')\n",
    "    else:\n",
    "        with open(file) as f:\n",
    "            fulltext = f.read()\n",
    "\n",
    "    # remove heading and line breaks\n",
    "    fulltext = fulltext.replace('FLEURS NATURELLES.','').replace('«',',')\n",
    "    fulltext = ' '.join(fulltext.split('\\n'))\n",
    "\n",
    "    # update street abbreviations\n",
    "    for k,v in street_abbrev.items():\n",
    "        fulltext = fulltext.replace(k,v)\n",
    "        \n",
    "    # split full text on digits that are followed by punctuation (usually street numbers)\n",
    "    bus_list = re.split('(?:(?<=\\s\\d)|(?<=\\s\\d{2})|(?<=\\s\\d{3}))[\\.\\:\\,\\-\\sA-Z]',fulltext.replace('\\n',''))\n",
    "    # remove extra white space\n",
    "    bus_list = [line.strip() for line in bus_list]\n",
    "    \n",
    "    return bus_list"
   ]
  },
  {
   "cell_type": "code",
   "execution_count": null,
   "metadata": {
    "ExecuteTime": {
     "end_time": "2020-07-13T15:51:55.534277Z",
     "start_time": "2020-07-13T15:51:55.530583Z"
    }
   },
   "outputs": [],
   "source": [
    "def fix_street(street):\n",
    "\n",
    "    # common problem to have this extra space\n",
    "    street = street.replace('- ','-').replace(' -','-')\n",
    "        \n",
    "    # default street is 'rue' if nothing else present\n",
    "    # this will catch most of them\n",
    "    if len(street.split()) == 1:\n",
    "        street = 'rue {}'.format(street)\n",
    "        \n",
    "    return street"
   ]
  },
  {
   "cell_type": "code",
   "execution_count": null,
   "metadata": {
    "ExecuteTime": {
     "end_time": "2020-07-13T15:51:55.862274Z",
     "start_time": "2020-07-13T15:51:55.849228Z"
    }
   },
   "outputs": [],
   "source": [
    "def parse_line(line,file,df):\n",
    "    \n",
    "    if line.strip() == '':\n",
    "        return df\n",
    "    \n",
    "    # first try to split on commas to see if there are three values\n",
    "    parsed = line.split(',')\n",
    "    # next try - commas are often OCRed as period\n",
    "    parsed2 = line.replace('.',',').split(',')\n",
    "    \n",
    "    if len(parsed) == 3:    \n",
    "        street = fix_street(parsed[1])\n",
    "\n",
    "        df = df.append({'name':parsed[0], 'street':street, 'number':parsed[2], 'line':line, 'source':file}, ignore_index=True)\n",
    "        \n",
    "    elif len(parsed2) == 3:\n",
    "        street = fix_street(parsed2[1])\n",
    "        df = df.append({'name':parsed2[0], 'street':street, 'number':parsed2[2], 'line':line, 'source':file}, ignore_index=True)\n",
    "\n",
    "    else:\n",
    "        try:\n",
    "            street = fix_street(parsed[-2])\n",
    "            extra_text = ', '.join(parsed[1:-2])\n",
    "            df = df.append({'name':parsed[0], 'street':street, 'number':parsed[-1], 'extra text':extra_text, 'line':line, 'source':file}, ignore_index=True)\n",
    "        except IndexError:\n",
    "            df = df.append({'name': line, 'line':line, 'source':file}, ignore_index=True)\n",
    "            pass\n",
    "    \n",
    "    return df"
   ]
  },
  {
   "cell_type": "code",
   "execution_count": null,
   "metadata": {
    "ExecuteTime": {
     "end_time": "2020-07-13T15:54:05.569296Z",
     "start_time": "2020-07-13T15:54:05.356949Z"
    }
   },
   "outputs": [],
   "source": [
    "# set empty dataframe with needed columns\n",
    "df = pd.DataFrame(columns=['line','name','number','street','extra text','source'])    \n",
    "\n",
    "# gather all .txt and .docx files to process\n",
    "allfiles = glob.glob('{}/*.docx'.format(data)) + glob.glob('{}/*.txt'.format(data))\n",
    "\n",
    "# process each docx file in the directory\n",
    "for file in tqdm(allfiles):\n",
    "    \n",
    "    # pre-process docx file\n",
    "    bus_list = prep_text(file)\n",
    "    \n",
    "    for line in bus_list:\n",
    "        df = parse_line(line,file,df)"
   ]
  },
  {
   "cell_type": "code",
   "execution_count": null,
   "metadata": {
    "ExecuteTime": {
     "end_time": "2020-07-13T15:54:07.158760Z",
     "start_time": "2020-07-13T15:54:07.132042Z"
    }
   },
   "outputs": [],
   "source": [
    "df.sample(3)"
   ]
  },
  {
   "cell_type": "code",
   "execution_count": null,
   "metadata": {
    "ExecuteTime": {
     "end_time": "2020-07-02T19:17:36.026523Z",
     "start_time": "2020-07-02T19:17:35.804823Z"
    }
   },
   "outputs": [],
   "source": [
    "# get timestamp from current time\n",
    "date = datetime.now()\n",
    "date = datetime.strftime(date, '%Y%m%d%H%M%S')\n",
    "\n",
    "# write out to Excel\n",
    "df.to_excel('export/business_list_{}.xlsx'.format(date), index=False)"
   ]
  },
  {
   "cell_type": "code",
   "execution_count": null,
   "metadata": {},
   "outputs": [],
   "source": []
  },
  {
   "cell_type": "code",
   "execution_count": null,
   "metadata": {},
   "outputs": [],
   "source": []
  }
 ],
 "metadata": {
  "kernelspec": {
   "display_name": "Python 3",
   "language": "python",
   "name": "python3"
  },
  "language_info": {
   "codemirror_mode": {
    "name": "ipython",
    "version": 3
   },
   "file_extension": ".py",
   "mimetype": "text/x-python",
   "name": "python",
   "nbconvert_exporter": "python",
   "pygments_lexer": "ipython3",
   "version": "3.7.6"
  }
 },
 "nbformat": 4,
 "nbformat_minor": 2
}
